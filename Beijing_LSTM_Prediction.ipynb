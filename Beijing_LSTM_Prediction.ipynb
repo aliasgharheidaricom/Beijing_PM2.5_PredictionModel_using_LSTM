{
 "cells": [
  {
   "cell_type": "code",
   "execution_count": 22,
   "id": "e94c3ce4",
   "metadata": {},
   "outputs": [],
   "source": [
    "from tensorflow.keras.models import Sequential\n",
    "from tensorflow.keras.layers import Dense, LSTM, Dropout\n",
    "from sklearn.preprocessing import MinMaxScaler\n",
    "import numpy as np\n",
    "import matplotlib.pyplot as plt\n",
    "import pandas as pd"
   ]
  },
  {
   "cell_type": "code",
   "execution_count": 2,
   "id": "9b350f49",
   "metadata": {},
   "outputs": [
    {
     "data": {
      "text/html": [
       "<div>\n",
       "<style scoped>\n",
       "    .dataframe tbody tr th:only-of-type {\n",
       "        vertical-align: middle;\n",
       "    }\n",
       "\n",
       "    .dataframe tbody tr th {\n",
       "        vertical-align: top;\n",
       "    }\n",
       "\n",
       "    .dataframe thead th {\n",
       "        text-align: right;\n",
       "    }\n",
       "</style>\n",
       "<table border=\"1\" class=\"dataframe\">\n",
       "  <thead>\n",
       "    <tr style=\"text-align: right;\">\n",
       "      <th></th>\n",
       "      <th>No</th>\n",
       "      <th>year</th>\n",
       "      <th>month</th>\n",
       "      <th>day</th>\n",
       "      <th>hour</th>\n",
       "      <th>pm2.5</th>\n",
       "      <th>DEWP</th>\n",
       "      <th>TEMP</th>\n",
       "      <th>PRES</th>\n",
       "      <th>cbwd</th>\n",
       "      <th>Iws</th>\n",
       "      <th>Is</th>\n",
       "      <th>Ir</th>\n",
       "    </tr>\n",
       "  </thead>\n",
       "  <tbody>\n",
       "    <tr>\n",
       "      <th>0</th>\n",
       "      <td>1</td>\n",
       "      <td>2010</td>\n",
       "      <td>1</td>\n",
       "      <td>1</td>\n",
       "      <td>0</td>\n",
       "      <td>NaN</td>\n",
       "      <td>-21</td>\n",
       "      <td>-11.0</td>\n",
       "      <td>1021.0</td>\n",
       "      <td>NW</td>\n",
       "      <td>1.79</td>\n",
       "      <td>0</td>\n",
       "      <td>0</td>\n",
       "    </tr>\n",
       "    <tr>\n",
       "      <th>1</th>\n",
       "      <td>2</td>\n",
       "      <td>2010</td>\n",
       "      <td>1</td>\n",
       "      <td>1</td>\n",
       "      <td>1</td>\n",
       "      <td>NaN</td>\n",
       "      <td>-21</td>\n",
       "      <td>-12.0</td>\n",
       "      <td>1020.0</td>\n",
       "      <td>NW</td>\n",
       "      <td>4.92</td>\n",
       "      <td>0</td>\n",
       "      <td>0</td>\n",
       "    </tr>\n",
       "    <tr>\n",
       "      <th>2</th>\n",
       "      <td>3</td>\n",
       "      <td>2010</td>\n",
       "      <td>1</td>\n",
       "      <td>1</td>\n",
       "      <td>2</td>\n",
       "      <td>NaN</td>\n",
       "      <td>-21</td>\n",
       "      <td>-11.0</td>\n",
       "      <td>1019.0</td>\n",
       "      <td>NW</td>\n",
       "      <td>6.71</td>\n",
       "      <td>0</td>\n",
       "      <td>0</td>\n",
       "    </tr>\n",
       "    <tr>\n",
       "      <th>3</th>\n",
       "      <td>4</td>\n",
       "      <td>2010</td>\n",
       "      <td>1</td>\n",
       "      <td>1</td>\n",
       "      <td>3</td>\n",
       "      <td>NaN</td>\n",
       "      <td>-21</td>\n",
       "      <td>-14.0</td>\n",
       "      <td>1019.0</td>\n",
       "      <td>NW</td>\n",
       "      <td>9.84</td>\n",
       "      <td>0</td>\n",
       "      <td>0</td>\n",
       "    </tr>\n",
       "    <tr>\n",
       "      <th>4</th>\n",
       "      <td>5</td>\n",
       "      <td>2010</td>\n",
       "      <td>1</td>\n",
       "      <td>1</td>\n",
       "      <td>4</td>\n",
       "      <td>NaN</td>\n",
       "      <td>-20</td>\n",
       "      <td>-12.0</td>\n",
       "      <td>1018.0</td>\n",
       "      <td>NW</td>\n",
       "      <td>12.97</td>\n",
       "      <td>0</td>\n",
       "      <td>0</td>\n",
       "    </tr>\n",
       "  </tbody>\n",
       "</table>\n",
       "</div>"
      ],
      "text/plain": [
       "   No  year  month  day  hour  pm2.5  DEWP  TEMP    PRES cbwd    Iws  Is  Ir\n",
       "0   1  2010      1    1     0    NaN   -21 -11.0  1021.0   NW   1.79   0   0\n",
       "1   2  2010      1    1     1    NaN   -21 -12.0  1020.0   NW   4.92   0   0\n",
       "2   3  2010      1    1     2    NaN   -21 -11.0  1019.0   NW   6.71   0   0\n",
       "3   4  2010      1    1     3    NaN   -21 -14.0  1019.0   NW   9.84   0   0\n",
       "4   5  2010      1    1     4    NaN   -20 -12.0  1018.0   NW  12.97   0   0"
      ]
     },
     "execution_count": 2,
     "metadata": {},
     "output_type": "execute_result"
    }
   ],
   "source": [
    "base = pd.read_csv('Beijing_PM2.5_2010-2014.csv')\n",
    "base.head()"
   ]
  },
  {
   "cell_type": "markdown",
   "id": "20d23378",
   "metadata": {},
   "source": [
    "### Data Cleaning"
   ]
  },
  {
   "cell_type": "code",
   "execution_count": 3,
   "id": "677f1186",
   "metadata": {},
   "outputs": [],
   "source": [
    "# Deletion of records with unfilled values (missing values)\n",
    "base = base.dropna()"
   ]
  },
  {
   "cell_type": "code",
   "execution_count": 4,
   "id": "f370893f",
   "metadata": {},
   "outputs": [],
   "source": [
    "base = base.drop('No', axis = 1)\n",
    "base = base.drop('year', axis = 1)\n",
    "base = base.drop('month', axis = 1)\n",
    "base = base.drop('day', axis = 1)\n",
    "base = base.drop('hour', axis = 1)\n",
    "base = base.drop('cbwd', axis = 1)"
   ]
  },
  {
   "cell_type": "code",
   "execution_count": 5,
   "id": "7888e285",
   "metadata": {
    "scrolled": true
   },
   "outputs": [
    {
     "data": {
      "text/html": [
       "<div>\n",
       "<style scoped>\n",
       "    .dataframe tbody tr th:only-of-type {\n",
       "        vertical-align: middle;\n",
       "    }\n",
       "\n",
       "    .dataframe tbody tr th {\n",
       "        vertical-align: top;\n",
       "    }\n",
       "\n",
       "    .dataframe thead th {\n",
       "        text-align: right;\n",
       "    }\n",
       "</style>\n",
       "<table border=\"1\" class=\"dataframe\">\n",
       "  <thead>\n",
       "    <tr style=\"text-align: right;\">\n",
       "      <th></th>\n",
       "      <th>pm2.5</th>\n",
       "      <th>DEWP</th>\n",
       "      <th>TEMP</th>\n",
       "      <th>PRES</th>\n",
       "      <th>Iws</th>\n",
       "      <th>Is</th>\n",
       "      <th>Ir</th>\n",
       "    </tr>\n",
       "  </thead>\n",
       "  <tbody>\n",
       "    <tr>\n",
       "      <th>24</th>\n",
       "      <td>129.0</td>\n",
       "      <td>-16</td>\n",
       "      <td>-4.0</td>\n",
       "      <td>1020.0</td>\n",
       "      <td>1.79</td>\n",
       "      <td>0</td>\n",
       "      <td>0</td>\n",
       "    </tr>\n",
       "    <tr>\n",
       "      <th>25</th>\n",
       "      <td>148.0</td>\n",
       "      <td>-15</td>\n",
       "      <td>-4.0</td>\n",
       "      <td>1020.0</td>\n",
       "      <td>2.68</td>\n",
       "      <td>0</td>\n",
       "      <td>0</td>\n",
       "    </tr>\n",
       "    <tr>\n",
       "      <th>26</th>\n",
       "      <td>159.0</td>\n",
       "      <td>-11</td>\n",
       "      <td>-5.0</td>\n",
       "      <td>1021.0</td>\n",
       "      <td>3.57</td>\n",
       "      <td>0</td>\n",
       "      <td>0</td>\n",
       "    </tr>\n",
       "    <tr>\n",
       "      <th>27</th>\n",
       "      <td>181.0</td>\n",
       "      <td>-7</td>\n",
       "      <td>-5.0</td>\n",
       "      <td>1022.0</td>\n",
       "      <td>5.36</td>\n",
       "      <td>1</td>\n",
       "      <td>0</td>\n",
       "    </tr>\n",
       "    <tr>\n",
       "      <th>28</th>\n",
       "      <td>138.0</td>\n",
       "      <td>-7</td>\n",
       "      <td>-5.0</td>\n",
       "      <td>1022.0</td>\n",
       "      <td>6.25</td>\n",
       "      <td>2</td>\n",
       "      <td>0</td>\n",
       "    </tr>\n",
       "  </tbody>\n",
       "</table>\n",
       "</div>"
      ],
      "text/plain": [
       "    pm2.5  DEWP  TEMP    PRES   Iws  Is  Ir\n",
       "24  129.0   -16  -4.0  1020.0  1.79   0   0\n",
       "25  148.0   -15  -4.0  1020.0  2.68   0   0\n",
       "26  159.0   -11  -5.0  1021.0  3.57   0   0\n",
       "27  181.0    -7  -5.0  1022.0  5.36   1   0\n",
       "28  138.0    -7  -5.0  1022.0  6.25   2   0"
      ]
     },
     "execution_count": 5,
     "metadata": {},
     "output_type": "execute_result"
    }
   ],
   "source": [
    "base.head()"
   ]
  },
  {
   "cell_type": "markdown",
   "id": "89b2704e",
   "metadata": {},
   "source": [
    "### Data preprocessing"
   ]
  },
  {
   "cell_type": "code",
   "execution_count": 6,
   "id": "352c1ddf",
   "metadata": {},
   "outputs": [
    {
     "data": {
      "text/plain": [
       "array([[ -16.  ,   -4.  , 1020.  ,    1.79,    0.  ,    0.  ],\n",
       "       [ -15.  ,   -4.  , 1020.  ,    2.68,    0.  ,    0.  ],\n",
       "       [ -11.  ,   -5.  , 1021.  ,    3.57,    0.  ,    0.  ],\n",
       "       ...,\n",
       "       [ -22.  ,   -3.  , 1034.  ,  242.7 ,    0.  ,    0.  ],\n",
       "       [ -22.  ,   -4.  , 1034.  ,  246.72,    0.  ,    0.  ],\n",
       "       [ -21.  ,   -3.  , 1034.  ,  249.85,    0.  ,    0.  ]])"
      ]
     },
     "execution_count": 6,
     "metadata": {},
     "output_type": "execute_result"
    }
   ],
   "source": [
    "# Predictive attributes are from index 1 to 6\n",
    "base_trainingSet = base.iloc[:, 1:7].values\n",
    "base_trainingSet"
   ]
  },
  {
   "cell_type": "code",
   "execution_count": 7,
   "id": "069bb571",
   "metadata": {},
   "outputs": [
    {
     "data": {
      "text/plain": [
       "array([129., 148., 159., ...,  10.,   8.,  12.])"
      ]
     },
     "execution_count": 7,
     "metadata": {},
     "output_type": "execute_result"
    }
   ],
   "source": [
    "# PM 2.5 levels, the target values are at index 0 of base\n",
    "pm2_5_levels = base.iloc[:, 0].values\n",
    "pm2_5_levels"
   ]
  },
  {
   "cell_type": "markdown",
   "id": "57176048",
   "metadata": {},
   "source": [
    "### Applying Data Normalization"
   ]
  },
  {
   "cell_type": "code",
   "execution_count": 8,
   "id": "b0ffba6c",
   "metadata": {},
   "outputs": [
    {
     "data": {
      "text/plain": [
       "array([[0.35294118, 0.24590164, 0.52727273, 0.00237151, 0.        ,\n",
       "        0.        ],\n",
       "       [0.36764706, 0.24590164, 0.52727273, 0.00394662, 0.        ,\n",
       "        0.        ],\n",
       "       [0.42647059, 0.2295082 , 0.54545455, 0.00552173, 0.        ,\n",
       "        0.        ],\n",
       "       ...,\n",
       "       [0.26470588, 0.26229508, 0.78181818, 0.42873071, 0.        ,\n",
       "        0.        ],\n",
       "       [0.26470588, 0.24590164, 0.78181818, 0.43584525, 0.        ,\n",
       "        0.        ],\n",
       "       [0.27941176, 0.26229508, 0.78181818, 0.44138468, 0.        ,\n",
       "        0.        ]])"
      ]
     },
     "execution_count": 8,
     "metadata": {},
     "output_type": "execute_result"
    }
   ],
   "source": [
    "# Application of normalization\n",
    "normalizer = MinMaxScaler(feature_range = (0, 1))\n",
    "base_trainingSet_normalized = normalizer.fit_transform(base_trainingSet)\n",
    "base_trainingSet_normalized"
   ]
  },
  {
   "cell_type": "code",
   "execution_count": 9,
   "id": "b177a325",
   "metadata": {},
   "outputs": [
    {
     "data": {
      "text/plain": [
       "array([[0.12977867],\n",
       "       [0.14889336],\n",
       "       [0.15995976],\n",
       "       ...,\n",
       "       [0.01006036],\n",
       "       [0.00804829],\n",
       "       [0.01207243]])"
      ]
     },
     "execution_count": 9,
     "metadata": {},
     "output_type": "execute_result"
    }
   ],
   "source": [
    "# Need to change the format of the variable to apply normalization\n",
    "pm2_5_levels = pm2_5_levels.reshape(-1, 1)\n",
    "pm2_5_levels_normalized = normalizer.fit_transform(pm2_5_levels)\n",
    "pm2_5_levels_normalized"
   ]
  },
  {
   "cell_type": "code",
   "execution_count": 11,
   "id": "442b694e",
   "metadata": {},
   "outputs": [],
   "source": [
    "previous = []\n",
    "pm2_5_levels_real = []\n",
    "for i in range(10, 41757):\n",
    "    previous.append(base_trainingSet_normalized[i-10:i, 0:6])\n",
    "    pm2_5_levels_real.append(pm2_5_levels_normalized[i, 0])\n",
    "previous, pm2_5_levels_real = np.array(previous), np.array(pm2_5_levels_real)"
   ]
  },
  {
   "cell_type": "code",
   "execution_count": 12,
   "id": "5191d989",
   "metadata": {},
   "outputs": [
    {
     "name": "stdout",
     "output_type": "stream",
     "text": [
      "[[[0.35294118 0.24590164 0.52727273 0.00237151 0.         0.        ]\n",
      "  [0.36764706 0.24590164 0.52727273 0.00394662 0.         0.        ]\n",
      "  [0.42647059 0.2295082  0.54545455 0.00552173 0.         0.        ]\n",
      "  ...\n",
      "  [0.48529412 0.2295082  0.6        0.0181757  0.         0.        ]\n",
      "  [0.47058824 0.21311475 0.6        0.02134362 0.         0.        ]\n",
      "  [0.48529412 0.2295082  0.61818182 0.02451154 0.         0.        ]]\n",
      "\n",
      " [[0.36764706 0.24590164 0.52727273 0.00394662 0.         0.        ]\n",
      "  [0.42647059 0.2295082  0.54545455 0.00552173 0.         0.        ]\n",
      "  [0.48529412 0.2295082  0.56363636 0.00868965 0.03703704 0.        ]\n",
      "  ...\n",
      "  [0.47058824 0.21311475 0.6        0.02134362 0.         0.        ]\n",
      "  [0.48529412 0.2295082  0.61818182 0.02451154 0.         0.        ]\n",
      "  [0.48529412 0.2295082  0.63636364 0.03005097 0.03703704 0.        ]]\n",
      "\n",
      " [[0.42647059 0.2295082  0.54545455 0.00552173 0.         0.        ]\n",
      "  [0.48529412 0.2295082  0.56363636 0.00868965 0.03703704 0.        ]\n",
      "  [0.48529412 0.2295082  0.56363636 0.01026476 0.07407407 0.        ]\n",
      "  ...\n",
      "  [0.48529412 0.2295082  0.61818182 0.02451154 0.         0.        ]\n",
      "  [0.48529412 0.2295082  0.63636364 0.03005097 0.03703704 0.        ]\n",
      "  [0.47058824 0.2295082  0.63636364 0.0355904  0.         0.        ]]\n",
      "\n",
      " ...\n",
      "\n",
      " [[0.26470588 0.27868852 0.78181818 0.30058049 0.         0.        ]\n",
      "  [0.26470588 0.31147541 0.76363636 0.31323446 0.         0.        ]\n",
      "  [0.19117647 0.31147541 0.74545455 0.32905635 0.         0.        ]\n",
      "  ...\n",
      "  [0.26470588 0.27868852 0.76363636 0.39945845 0.         0.        ]\n",
      "  [0.25       0.27868852 0.78181818 0.4097409  0.         0.        ]\n",
      "  [0.26470588 0.26229508 0.78181818 0.42002336 0.         0.        ]]\n",
      "\n",
      " [[0.26470588 0.31147541 0.76363636 0.31323446 0.         0.        ]\n",
      "  [0.19117647 0.31147541 0.74545455 0.32905635 0.         0.        ]\n",
      "  [0.19117647 0.32786885 0.74545455 0.34645335 0.         0.        ]\n",
      "  ...\n",
      "  [0.25       0.27868852 0.78181818 0.4097409  0.         0.        ]\n",
      "  [0.26470588 0.26229508 0.78181818 0.42002336 0.         0.        ]\n",
      "  [0.26470588 0.26229508 0.78181818 0.42873071 0.         0.        ]]\n",
      "\n",
      " [[0.19117647 0.31147541 0.74545455 0.32905635 0.         0.        ]\n",
      "  [0.19117647 0.32786885 0.74545455 0.34645335 0.         0.        ]\n",
      "  [0.20588235 0.32786885 0.74545455 0.36227524 0.         0.        ]\n",
      "  ...\n",
      "  [0.26470588 0.26229508 0.78181818 0.42002336 0.         0.        ]\n",
      "  [0.26470588 0.26229508 0.78181818 0.42873071 0.         0.        ]\n",
      "  [0.26470588 0.24590164 0.78181818 0.43584525 0.         0.        ]]]\n"
     ]
    }
   ],
   "source": [
    "print(previous)"
   ]
  },
  {
   "cell_type": "code",
   "execution_count": 13,
   "id": "6f704f4e",
   "metadata": {},
   "outputs": [
    {
     "name": "stdout",
     "output_type": "stream",
     "text": [
      "[0.14084507 0.15291751 0.14889336 ... 0.01006036 0.00804829 0.01207243]\n"
     ]
    }
   ],
   "source": [
    "print(pm2_5_levels_real)"
   ]
  },
  {
   "cell_type": "markdown",
   "id": "9195db90",
   "metadata": {},
   "source": [
    "### Creation of neural network structure. "
   ]
  },
  {
   "cell_type": "code",
   "execution_count": 15,
   "id": "4e6ea440",
   "metadata": {},
   "outputs": [
    {
     "name": "stdout",
     "output_type": "stream",
     "text": [
      "Epoch 1/100\n",
      "653/653 [==============================] - 13s 20ms/step - loss: 0.0073 - mean_absolute_error: 0.0617\n",
      "Epoch 2/100\n",
      "653/653 [==============================] - 13s 20ms/step - loss: 0.0061 - mean_absolute_error: 0.0556\n",
      "Epoch 3/100\n",
      "653/653 [==============================] - 13s 20ms/step - loss: 0.0057 - mean_absolute_error: 0.0532\n",
      "Epoch 4/100\n",
      "653/653 [==============================] - 13s 20ms/step - loss: 0.0055 - mean_absolute_error: 0.0523\n",
      "Epoch 5/100\n",
      "653/653 [==============================] - 13s 20ms/step - loss: 0.0054 - mean_absolute_error: 0.0514\n",
      "Epoch 6/100\n",
      "653/653 [==============================] - 13s 20ms/step - loss: 0.0053 - mean_absolute_error: 0.0510\n",
      "Epoch 7/100\n",
      "653/653 [==============================] - 13s 20ms/step - loss: 0.0052 - mean_absolute_error: 0.0504\n",
      "Epoch 8/100\n",
      "653/653 [==============================] - 13s 20ms/step - loss: 0.0052 - mean_absolute_error: 0.0503\n",
      "Epoch 9/100\n",
      "653/653 [==============================] - 13s 20ms/step - loss: 0.0051 - mean_absolute_error: 0.0500\n",
      "Epoch 10/100\n",
      "653/653 [==============================] - 13s 20ms/step - loss: 0.0051 - mean_absolute_error: 0.0497\n",
      "Epoch 11/100\n",
      "653/653 [==============================] - 13s 20ms/step - loss: 0.0051 - mean_absolute_error: 0.0496\n",
      "Epoch 12/100\n",
      "653/653 [==============================] - 13s 20ms/step - loss: 0.0050 - mean_absolute_error: 0.0492\n",
      "Epoch 13/100\n",
      "653/653 [==============================] - 13s 20ms/step - loss: 0.0050 - mean_absolute_error: 0.0492 4s - loss: 0.0051 - mean_ab\n",
      "Epoch 14/100\n",
      "653/653 [==============================] - 13s 20ms/step - loss: 0.0049 - mean_absolute_error: 0.0488\n",
      "Epoch 15/100\n",
      "653/653 [==============================] - 13s 20ms/step - loss: 0.0049 - mean_absolute_error: 0.0488\n",
      "Epoch 16/100\n",
      "653/653 [==============================] - 13s 20ms/step - loss: 0.0049 - mean_absolute_error: 0.0486\n",
      "Epoch 17/100\n",
      "653/653 [==============================] - 13s 20ms/step - loss: 0.0049 - mean_absolute_error: 0.0485\n",
      "Epoch 18/100\n",
      "653/653 [==============================] - 14s 21ms/step - loss: 0.0048 - mean_absolute_error: 0.0483\n",
      "Epoch 19/100\n",
      "653/653 [==============================] - 1085s 2s/step - loss: 0.0048 - mean_absolute_error: 0.0480\n",
      "Epoch 20/100\n",
      "653/653 [==============================] - 13s 20ms/step - loss: 0.0048 - mean_absolute_error: 0.0480\n",
      "Epoch 21/100\n",
      "653/653 [==============================] - 13s 21ms/step - loss: 0.0047 - mean_absolute_error: 0.0477\n",
      "Epoch 22/100\n",
      "653/653 [==============================] - 13s 21ms/step - loss: 0.0047 - mean_absolute_error: 0.0476\n",
      "Epoch 23/100\n",
      "653/653 [==============================] - 13s 20ms/step - loss: 0.0047 - mean_absolute_error: 0.0473\n",
      "Epoch 24/100\n",
      "653/653 [==============================] - 13s 20ms/step - loss: 0.0046 - mean_absolute_error: 0.0471\n",
      "Epoch 25/100\n",
      "653/653 [==============================] - 13s 21ms/step - loss: 0.0046 - mean_absolute_error: 0.0469\n",
      "Epoch 26/100\n",
      "653/653 [==============================] - 13s 20ms/step - loss: 0.0045 - mean_absolute_error: 0.0467\n",
      "Epoch 27/100\n",
      "653/653 [==============================] - 13s 20ms/step - loss: 0.0045 - mean_absolute_error: 0.0465\n",
      "Epoch 28/100\n",
      "653/653 [==============================] - 13s 20ms/step - loss: 0.0044 - mean_absolute_error: 0.0463\n",
      "Epoch 29/100\n",
      "653/653 [==============================] - 13s 20ms/step - loss: 0.0044 - mean_absolute_error: 0.0461\n",
      "Epoch 30/100\n",
      "653/653 [==============================] - 13s 20ms/step - loss: 0.0044 - mean_absolute_error: 0.0459\n",
      "Epoch 31/100\n",
      "653/653 [==============================] - 14s 21ms/step - loss: 0.0044 - mean_absolute_error: 0.0456\n",
      "Epoch 32/100\n",
      "653/653 [==============================] - 14s 21ms/step - loss: 0.0043 - mean_absolute_error: 0.0456 4s - loss: 0.0043 -\n",
      "Epoch 33/100\n",
      "653/653 [==============================] - 13s 21ms/step - loss: 0.0043 - mean_absolute_error: 0.0456\n",
      "Epoch 34/100\n",
      "653/653 [==============================] - 13s 20ms/step - loss: 0.0043 - mean_absolute_error: 0.0453\n",
      "Epoch 35/100\n",
      "653/653 [==============================] - 13s 20ms/step - loss: 0.0043 - mean_absolute_error: 0.0452\n",
      "Epoch 36/100\n",
      "653/653 [==============================] - 13s 20ms/step - loss: 0.0042 - mean_absolute_error: 0.0449\n",
      "Epoch 37/100\n",
      "653/653 [==============================] - 13s 20ms/step - loss: 0.0042 - mean_absolute_error: 0.0448\n",
      "Epoch 38/100\n",
      "653/653 [==============================] - 13s 20ms/step - loss: 0.0042 - mean_absolute_error: 0.0445\n",
      "Epoch 39/100\n",
      "653/653 [==============================] - 15s 22ms/step - loss: 0.0041 - mean_absolute_error: 0.0445\n",
      "Epoch 40/100\n",
      "653/653 [==============================] - 14s 22ms/step - loss: 0.0041 - mean_absolute_error: 0.0443\n",
      "Epoch 41/100\n",
      "653/653 [==============================] - 13s 20ms/step - loss: 0.0041 - mean_absolute_error: 0.0442\n",
      "Epoch 42/100\n",
      "653/653 [==============================] - 14s 21ms/step - loss: 0.0041 - mean_absolute_error: 0.0441 1s - loss: 0.0041 - mea\n",
      "Epoch 43/100\n",
      "653/653 [==============================] - 13s 20ms/step - loss: 0.0041 - mean_absolute_error: 0.0440 1s - loss: 0.0041 - mean_\n",
      "Epoch 44/100\n",
      "653/653 [==============================] - 13s 20ms/step - loss: 0.0040 - mean_absolute_error: 0.0438 0s - loss: 0.0040 - mean_absolute_erro\n",
      "Epoch 45/100\n",
      "653/653 [==============================] - 13s 20ms/step - loss: 0.0040 - mean_absolute_error: 0.0438\n",
      "Epoch 46/100\n",
      "653/653 [==============================] - 13s 20ms/step - loss: 0.0039 - mean_absolute_error: 0.0433\n",
      "Epoch 47/100\n",
      "653/653 [==============================] - 13s 20ms/step - loss: 0.0039 - mean_absolute_error: 0.0434\n",
      "Epoch 48/100\n",
      "653/653 [==============================] - 13s 20ms/step - loss: 0.0039 - mean_absolute_error: 0.0433\n",
      "Epoch 49/100\n",
      "653/653 [==============================] - 13s 20ms/step - loss: 0.0039 - mean_absolute_error: 0.0433\n",
      "Epoch 50/100\n",
      "653/653 [==============================] - 13s 20ms/step - loss: 0.0039 - mean_absolute_error: 0.0430\n",
      "Epoch 51/100\n",
      "653/653 [==============================] - 13s 20ms/step - loss: 0.0038 - mean_absolute_error: 0.0428\n",
      "Epoch 52/100\n",
      "653/653 [==============================] - 13s 20ms/step - loss: 0.0038 - mean_absolute_error: 0.0426\n",
      "Epoch 53/100\n",
      "653/653 [==============================] - 13s 20ms/step - loss: 0.0038 - mean_absolute_error: 0.0425\n",
      "Epoch 54/100\n",
      "653/653 [==============================] - 13s 20ms/step - loss: 0.0038 - mean_absolute_error: 0.0426\n",
      "Epoch 55/100\n",
      "653/653 [==============================] - 13s 20ms/step - loss: 0.0038 - mean_absolute_error: 0.0424\n",
      "Epoch 56/100\n",
      "653/653 [==============================] - 13s 20ms/step - loss: 0.0037 - mean_absolute_error: 0.0422\n",
      "Epoch 57/100\n",
      "653/653 [==============================] - 13s 20ms/step - loss: 0.0037 - mean_absolute_error: 0.0420\n",
      "Epoch 58/100\n",
      "653/653 [==============================] - 13s 20ms/step - loss: 0.0037 - mean_absolute_error: 0.0418\n",
      "Epoch 59/100\n",
      "653/653 [==============================] - 13s 21ms/step - loss: 0.0037 - mean_absolute_error: 0.0419\n",
      "Epoch 60/100\n",
      "653/653 [==============================] - 13s 20ms/step - loss: 0.0036 - mean_absolute_error: 0.0417\n",
      "Epoch 61/100\n",
      "653/653 [==============================] - 13s 21ms/step - loss: 0.0036 - mean_absolute_error: 0.0416\n",
      "Epoch 62/100\n",
      "653/653 [==============================] - 14s 21ms/step - loss: 0.0036 - mean_absolute_error: 0.0414\n",
      "Epoch 63/100\n",
      "653/653 [==============================] - 14s 21ms/step - loss: 0.0036 - mean_absolute_error: 0.0414\n",
      "Epoch 64/100\n",
      "653/653 [==============================] - 14s 22ms/step - loss: 0.0036 - mean_absolute_error: 0.0412 0s - loss: 0.0036 - mean_absolute_error: 0.041\n",
      "Epoch 65/100\n",
      "653/653 [==============================] - 13s 21ms/step - loss: 0.0035 - mean_absolute_error: 0.0410\n",
      "Epoch 66/100\n",
      "653/653 [==============================] - 13s 21ms/step - loss: 0.0035 - mean_absolute_error: 0.0409\n",
      "Epoch 67/100\n",
      "653/653 [==============================] - 14s 21ms/step - loss: 0.0035 - mean_absolute_error: 0.0409\n",
      "Epoch 68/100\n",
      "653/653 [==============================] - 14s 21ms/step - loss: 0.0035 - mean_absolute_error: 0.0408\n",
      "Epoch 69/100\n",
      "653/653 [==============================] - 14s 22ms/step - loss: 0.0034 - mean_absolute_error: 0.0406 2\n",
      "Epoch 70/100\n",
      "653/653 [==============================] - 14s 21ms/step - loss: 0.0034 - mean_absolute_error: 0.0405\n",
      "Epoch 71/100\n",
      "653/653 [==============================] - 14s 21ms/step - loss: 0.0034 - mean_absolute_error: 0.0402\n",
      "Epoch 72/100\n",
      "653/653 [==============================] - 15s 23ms/step - loss: 0.0034 - mean_absolute_error: 0.0402\n",
      "Epoch 73/100\n",
      "653/653 [==============================] - 15s 23ms/step - loss: 0.0034 - mean_absolute_error: 0.0401\n",
      "Epoch 74/100\n",
      "653/653 [==============================] - 14s 22ms/step - loss: 0.0033 - mean_absolute_error: 0.0400\n",
      "Epoch 75/100\n",
      "653/653 [==============================] - 14s 21ms/step - loss: 0.0033 - mean_absolute_error: 0.0400\n",
      "Epoch 76/100\n",
      "653/653 [==============================] - 14s 21ms/step - loss: 0.0033 - mean_absolute_error: 0.0397\n",
      "Epoch 77/100\n",
      "653/653 [==============================] - 14s 21ms/step - loss: 0.0033 - mean_absolute_error: 0.0395 2s - l\n",
      "Epoch 78/100\n",
      "653/653 [==============================] - 14s 22ms/step - loss: 0.0032 - mean_absolute_error: 0.0394\n",
      "Epoch 79/100\n",
      "653/653 [==============================] - 14s 21ms/step - loss: 0.0032 - mean_absolute_error: 0.0393\n",
      "Epoch 80/100\n",
      "653/653 [==============================] - 14s 21ms/step - loss: 0.0032 - mean_absolute_error: 0.0393\n",
      "Epoch 81/100\n",
      "653/653 [==============================] - 15s 22ms/step - loss: 0.0032 - mean_absolute_error: 0.0392\n",
      "Epoch 82/100\n",
      "653/653 [==============================] - 15s 23ms/step - loss: 0.0032 - mean_absolute_error: 0.0391\n",
      "Epoch 83/100\n",
      "653/653 [==============================] - 16s 24ms/step - loss: 0.0031 - mean_absolute_error: 0.0390\n",
      "Epoch 84/100\n",
      "653/653 [==============================] - 15s 23ms/step - loss: 0.0031 - mean_absolute_error: 0.0389\n",
      "Epoch 85/100\n",
      "653/653 [==============================] - 15s 23ms/step - loss: 0.0031 - mean_absolute_error: 0.0387\n",
      "Epoch 86/100\n",
      "653/653 [==============================] - 16s 25ms/step - loss: 0.0031 - mean_absolute_error: 0.0386\n",
      "Epoch 87/100\n",
      "653/653 [==============================] - 15s 23ms/step - loss: 0.0031 - mean_absolute_error: 0.0384\n",
      "Epoch 88/100\n",
      "653/653 [==============================] - 16s 25ms/step - loss: 0.0031 - mean_absolute_error: 0.0384\n",
      "Epoch 89/100\n",
      "653/653 [==============================] - 15s 23ms/step - loss: 0.0030 - mean_absolute_error: 0.0382 8s - loss: -  - ETA: 2s - l\n",
      "Epoch 90/100\n",
      "653/653 [==============================] - 14s 22ms/step - loss: 0.0030 - mean_absolute_error: 0.0383\n",
      "Epoch 91/100\n",
      "653/653 [==============================] - 15s 23ms/step - loss: 0.0030 - mean_absolute_error: 0.0380\n",
      "Epoch 92/100\n",
      "653/653 [==============================] - 14s 22ms/step - loss: 0.0030 - mean_absolute_error: 0.0379 1s - loss: 0.0029 - mean_a\n",
      "Epoch 93/100\n",
      "653/653 [==============================] - 16s 25ms/step - loss: 0.0030 - mean_absolute_error: 0.0379\n",
      "Epoch 94/100\n",
      "653/653 [==============================] - 16s 24ms/step - loss: 0.0029 - mean_absolute_error: 0.0376\n",
      "Epoch 95/100\n",
      "653/653 [==============================] - 16s 24ms/step - loss: 0.0029 - mean_absolute_error: 0.0376 2s - loss: 0.0029 - mean_absolute_error - ETA: 2s - l\n",
      "Epoch 96/100\n",
      "653/653 [==============================] - 17s 26ms/step - loss: 0.0029 - mean_absolute_error: 0.0376 0s - loss: 0.0029 - mean_absolute_error: 0.0\n",
      "Epoch 97/100\n",
      "653/653 [==============================] - 21s 31ms/step - loss: 0.0029 - mean_absolute_error: 0.0372\n",
      "Epoch 98/100\n",
      "653/653 [==============================] - 20s 31ms/step - loss: 0.0028 - mean_absolute_error: 0.0372\n",
      "Epoch 99/100\n",
      "653/653 [==============================] - 14s 21ms/step - loss: 0.0028 - mean_absolute_error: 0.0369\n",
      "Epoch 100/100\n",
      "653/653 [==============================] - 14s 22ms/step - loss: 0.0028 - mean_absolute_error: 0.0371\n"
     ]
    },
    {
     "data": {
      "text/plain": [
       "<tensorflow.python.keras.callbacks.History at 0x23041f1d9d0>"
      ]
     },
     "execution_count": 15,
     "metadata": {},
     "output_type": "execute_result"
    }
   ],
   "source": [
    "LSTM_predictiveModel = Sequential()\n",
    "LSTM_predictiveModel.add(LSTM(units = 100, return_sequences = True, input_shape = (previous.shape[1], 6)))  # The last parameter with the value 6 represents, the number of predictive attributes\n",
    "LSTM_predictiveModel.add(Dropout(0.3))\n",
    "\n",
    "LSTM_predictiveModel.add(LSTM(units = 50, return_sequences = True))\n",
    "LSTM_predictiveModel.add(Dropout(0.2))\n",
    "\n",
    "LSTM_predictiveModel.add(LSTM(units = 50, return_sequences = True))\n",
    "LSTM_predictiveModel.add(Dropout(0.2))\n",
    "\n",
    "LSTM_predictiveModel.add(LSTM(units = 50))\n",
    "LSTM_predictiveModel.add(Dropout(0.2))\n",
    "\n",
    "LSTM_predictiveModel.add(Dense(units = 1, activation = 'linear'))\n",
    "\n",
    "LSTM_predictiveModel.compile(optimizer = 'rmsprop', loss = 'mean_squared_error', \n",
    "                  metrics = ['mean_absolute_error'])\n",
    "LSTM_predictiveModel.fit(previous, pm2_5_levels_real, epochs = 100, batch_size = 64)"
   ]
  },
  {
   "cell_type": "code",
   "execution_count": 16,
   "id": "033be0aa",
   "metadata": {},
   "outputs": [
    {
     "data": {
      "text/plain": [
       "array([[115.56105 ],\n",
       "       [106.06028 ],\n",
       "       [ 99.69373 ],\n",
       "       ...,\n",
       "       [  9.209001],\n",
       "       [  8.669482],\n",
       "       [  8.602592]], dtype=float32)"
      ]
     },
     "execution_count": 16,
     "metadata": {},
     "output_type": "execute_result"
    }
   ],
   "source": [
    "predicted_PM2_5 = LSTM_predictiveModel.predict(previous)\n",
    "predicted_PM2_5 = normalizer.inverse_transform(predicted_PM2_5)\n",
    "predicted_PM2_5"
   ]
  },
  {
   "cell_type": "code",
   "execution_count": 32,
   "id": "28765249",
   "metadata": {},
   "outputs": [
    {
     "name": "stdout",
     "output_type": "stream",
     "text": [
      "predicted_PM2_5 91.397\n",
      "pm2_5_levels 98.61321455085375\n"
     ]
    }
   ],
   "source": [
    "print('predicted_PM2_5', predicted_PM2_5.mean())\n",
    "print('pm2_5_levels', pm2_5_levels.mean())"
   ]
  },
  {
   "cell_type": "code",
   "execution_count": 35,
   "id": "7e74a861",
   "metadata": {},
   "outputs": [
    {
     "data": {
      "text/plain": [
       "<matplotlib.legend.Legend at 0x230581fa8b0>"
      ]
     },
     "execution_count": 35,
     "metadata": {},
     "output_type": "execute_result"
    },
    {
     "data": {
      "image/png": "[encoded data removed]",
      "text/plain": [
       "<Figure size 1152x864 with 1 Axes>"
      ]
     },
     "metadata": {
      "needs_background": "light"
     },
     "output_type": "display_data"
    }
   ],
   "source": [
    "plt.figure(figsize=(16,12))\n",
    "plt.plot(pm2_5_levels[10:], color = 'green', label = 'Real pollution')\n",
    "plt.plot(predicted_PM2_5, color = 'orange', label = 'Predictions')\n",
    "plt.title('Pollution forecast')\n",
    "plt.xlabel('Hours')\n",
    "plt.ylabel('Pollution value')\n",
    "plt.legend()"
   ]
  },
  {
   "cell_type": "code",
   "execution_count": 34,
   "id": "2d94d91a",
   "metadata": {},
   "outputs": [
    {
     "name": "stdout",
     "output_type": "stream",
     "text": [
      "MAE: 34.817538863944904\n",
      "MSE: 2704.503759535272\n",
      "RMSE: 52.00484361610245\n"
     ]
    }
   ],
   "source": [
    "from sklearn import metrics\n",
    "\n",
    "print('MAE:', metrics.mean_absolute_error(pm2_5_levels[10:], predicted_PM2_5))\n",
    "print('MSE:', metrics.mean_squared_error(pm2_5_levels[10:], predicted_PM2_5))\n",
    "print('RMSE:', np.sqrt(metrics.mean_squared_error(pm2_5_levels[10:], predicted_PM2_5)))"
   ]
  }
 ],
 "metadata": {
  "kernelspec": {
   "display_name": "Python 3",
   "language": "python",
   "name": "python3"
  },
  "language_info": {
   "codemirror_mode": {
    "name": "ipython",
    "version": 3
   },
   "file_extension": ".py",
   "mimetype": "text/x-python",
   "name": "python",
   "nbconvert_exporter": "python",
   "pygments_lexer": "ipython3",
   "version": "3.8.10"
  }
 },
 "nbformat": 4,
 "nbformat_minor": 5
}
